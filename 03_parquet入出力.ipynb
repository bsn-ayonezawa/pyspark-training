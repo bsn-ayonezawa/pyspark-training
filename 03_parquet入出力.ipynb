{
 "cells": [
  {
   "cell_type": "code",
   "execution_count": 1,
   "metadata": {},
   "outputs": [],
   "source": [
    "import pandas as pd\n",
    "import pyarrow as pa\n",
    "import pyarrow.parquet as pq"
   ]
  },
  {
   "cell_type": "code",
   "execution_count": 2,
   "metadata": {},
   "outputs": [],
   "source": [
    "# parquetファイル準備\n",
    "df = pd.read_csv(r'input\\user.csv')\n",
    "table = pa.Table.from_pandas(df)\n",
    "pq.write_table(table, r'input\\user.parquet')"
   ]
  },
  {
   "cell_type": "code",
   "execution_count": 2,
   "metadata": {},
   "outputs": [],
   "source": [
    "# 準備したparquetを読み込み\n",
    "users = spark.read.parquet(r'input\\user.parquet')"
   ]
  },
  {
   "cell_type": "code",
   "execution_count": 3,
   "metadata": {},
   "outputs": [],
   "source": [
    "# 性別でパーティション分けして出力\n",
    "users.where(users.sex == '男') \\\n",
    "     .write \\\n",
    "     .parquet(r'users/gnd=male'\n",
    "              , mode='overwrite')"
   ]
  },
  {
   "cell_type": "code",
   "execution_count": 4,
   "metadata": {},
   "outputs": [],
   "source": [
    "users.where(users.sex == '女') \\\n",
    "     .write \\\n",
    "     .parquet(r'users/gnd=female'\n",
    "              , mode='overwrite')"
   ]
  },
  {
   "cell_type": "code",
   "execution_count": 6,
   "metadata": {},
   "outputs": [
    {
     "name": "stdout",
     "output_type": "stream",
     "text": [
      "+---+-----+\n",
      "|sex|count|\n",
      "+---+-----+\n",
      "| 男|  927|\n",
      "+---+-----+\n",
      "\n"
     ]
    }
   ],
   "source": [
    "# parquetから男性のみ読み込む\n",
    "users_male = spark.read.parquet(r'users\\sex=male')\n",
    "users_male.groupby('sex').count().show()"
   ]
  },
  {
   "cell_type": "code",
   "execution_count": 8,
   "metadata": {
    "scrolled": true
   },
   "outputs": [
    {
     "name": "stdout",
     "output_type": "stream",
     "text": [
      "+-------+-----------+-------------+---+---+----------+-------+----------+------+\n",
      "|user_id|family_name|personal_name|age|sex|birth_date|pref_cd|active_flg|   gnd|\n",
      "+-------+-----------+-------------+---+---+----------+-------+----------+------+\n",
      "|   3844|       舟橋|         志歩| 35| 女| 1984/4/21|     17|         1|female|\n",
      "|   8945|       茂木|         佳乃| 58| 女| 1961/9/16|     39|         1|female|\n",
      "|   9465|       清家|           鈴| 53| 女|  1966/8/1|     31|         0|female|\n",
      "|   5371|       植野|         麗子| 40| 女|  1980/2/9|     29|         1|female|\n",
      "|   3868|       伊波|         利恵| 49| 女| 1970/6/26|     30|         0|female|\n",
      "|   3725|       室井|           緑| 14| 女| 2006/2/22|     22|         0|female|\n",
      "|   6801|       磯田|         栄美| 19| 女| 2000/7/12|     24|         1|female|\n",
      "|   4614|       島袋|         栄美| 20| 女|  2000/1/3|     28|         0|female|\n",
      "|   4983|       兼田|         奏音| 42| 女|1977/11/30|     33|         1|female|\n",
      "|   2956|       塩原|       亜紀子| 37| 女|  1982/8/3|      7|         0|female|\n",
      "|   2772|       藤澤|         容子| 16| 女| 2004/4/16|     39|         1|female|\n",
      "|   3259|       江原|         春香| 31| 女| 1988/4/24|     36|         0|female|\n",
      "|   7713|       西本|           葵| 21| 女| 1998/8/19|     28|         1|female|\n",
      "|   6836|       小峰|         小春| 27| 女|  1992/9/9|     21|         1|female|\n",
      "|   2743|       冨田|         来未| 53| 女|1966/11/25|     15|         1|female|\n",
      "|   8975|       池野|         円美| 47| 女| 1972/8/21|     41|         0|female|\n",
      "|   9407|       宗像|         実可| 13| 女| 2007/2/12|      3|         0|female|\n",
      "|   2021|       南雲|         里香|  7| 女| 2013/3/22|      2|         1|female|\n",
      "|   7155|       川辺|         千夏| 27| 女| 1993/3/27|     31|         0|female|\n",
      "|   3103|       尾上|         麗華| 30| 女| 1990/3/16|     25|         0|female|\n",
      "+-------+-----------+-------------+---+---+----------+-------+----------+------+\n",
      "only showing top 20 rows\n",
      "\n"
     ]
    },
    {
     "data": {
      "text/plain": [
       "'\\n※パーティションを結合した場合パーティションキー（この例では`sex`）と\\n\\u3000同じ名前のカラムがあると値が上書きされてしまったので本番では注意が必要\\n'"
      ]
     },
     "execution_count": 8,
     "metadata": {},
     "output_type": "execute_result"
    }
   ],
   "source": [
    "# パーティションを結合してparquet全体を読み込む\n",
    "users_all = spark.read.parquet('users')\n",
    "users_all.show()\n",
    "\"\"\"\n",
    "※パーティションを結合した場合パーティションキー（この例では`sex`）と\n",
    "　同じ名前のカラムがあると値が上書きされてしまったので本番では注意が必要\n",
    "\"\"\""
   ]
  },
  {
   "cell_type": "code",
   "execution_count": null,
   "metadata": {},
   "outputs": [],
   "source": []
  }
 ],
 "metadata": {
  "kernelspec": {
   "display_name": "Python 3",
   "language": "python",
   "name": "python3"
  },
  "language_info": {
   "codemirror_mode": {
    "name": "ipython",
    "version": 3
   },
   "file_extension": ".py",
   "mimetype": "text/x-python",
   "name": "python",
   "nbconvert_exporter": "python",
   "pygments_lexer": "ipython3",
   "version": "3.6.8"
  }
 },
 "nbformat": 4,
 "nbformat_minor": 4
}
