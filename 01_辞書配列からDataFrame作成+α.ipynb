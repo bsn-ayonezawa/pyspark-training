{
 "cells": [
  {
   "cell_type": "code",
   "execution_count": 1,
   "metadata": {},
   "outputs": [],
   "source": [
    "# 入力データ（辞書配列）\n",
    "objs = [\n",
    "    {'col1': 5, 'col2': 2},\n",
    "    {'col1': 10, 'col2': 20},\n",
    "    {'col1': 15, 'col2': 200},\n",
    "    {'col1': 20, 'col2': 2000},\n",
    "    {'col1': 25, 'col2': 20000},\n",
    "    {'col1': 30, 'col2': 200000}\n",
    "]"
   ]
  },
  {
   "cell_type": "code",
   "execution_count": 2,
   "metadata": {},
   "outputs": [],
   "source": [
    "# 型定義作成\n",
    "from pyspark.sql.types import *\n",
    "schema = StructType([\n",
    "    StructField('col1', IntegerType(), False),\n",
    "    StructField('col2', IntegerType(), False)\n",
    "])"
   ]
  },
  {
   "cell_type": "code",
   "execution_count": 3,
   "metadata": {
    "scrolled": true
   },
   "outputs": [
    {
     "name": "stdout",
     "output_type": "stream",
     "text": [
      "+----+------+\n",
      "|col1|  col2|\n",
      "+----+------+\n",
      "|   5|     2|\n",
      "|  10|    20|\n",
      "|  15|   200|\n",
      "|  20|  2000|\n",
      "|  25| 20000|\n",
      "|  30|200000|\n",
      "+----+------+\n",
      "\n"
     ]
    }
   ],
   "source": [
    "# RDDからDataFrame作成\n",
    "df = spark.createDataFrame(objs, schema)\n",
    "df.show()"
   ]
  },
  {
   "cell_type": "code",
   "execution_count": 4,
   "metadata": {},
   "outputs": [
    {
     "name": "stdout",
     "output_type": "stream",
     "text": [
      "+----+\n",
      "|col1|\n",
      "+----+\n",
      "|   5|\n",
      "|  10|\n",
      "|  15|\n",
      "|  20|\n",
      "|  25|\n",
      "|  30|\n",
      "+----+\n",
      "\n",
      "+----+\n",
      "|col1|\n",
      "+----+\n",
      "|   5|\n",
      "|  10|\n",
      "|  15|\n",
      "|  20|\n",
      "|  25|\n",
      "|  30|\n",
      "+----+\n",
      "\n",
      "+----+\n",
      "|col1|\n",
      "+----+\n",
      "|   5|\n",
      "|  10|\n",
      "|  15|\n",
      "|  20|\n",
      "|  25|\n",
      "|  30|\n",
      "+----+\n",
      "\n",
      "+----+------+\n",
      "|col1|  col2|\n",
      "+----+------+\n",
      "|   5|     2|\n",
      "|  10|    20|\n",
      "|  15|   200|\n",
      "|  20|  2000|\n",
      "|  25| 20000|\n",
      "|  30|200000|\n",
      "+----+------+\n",
      "\n"
     ]
    }
   ],
   "source": [
    "# select（列抽出）\n",
    "df.select('col1').show() # 列名文字列指定\n",
    "df.select(df.col1).show() # Columnオブジェクトで指定\n",
    "df.select(df[0]).show()   # Columnオブジェクトで指定２（列番号で指定）\n",
    "# 複数\n",
    "df.select(df.col1, df.col2).show()\n",
    "#df.select(df[0:1]).show()"
   ]
  },
  {
   "cell_type": "code",
   "execution_count": 5,
   "metadata": {
    "scrolled": false
   },
   "outputs": [
    {
     "name": "stdout",
     "output_type": "stream",
     "text": [
      "+----+------+\n",
      "|col1|  col2|\n",
      "+----+------+\n",
      "|  10|    20|\n",
      "|  15|   200|\n",
      "|  20|  2000|\n",
      "|  25| 20000|\n",
      "|  30|200000|\n",
      "+----+------+\n",
      "\n",
      "+----+------+\n",
      "|col1|  col2|\n",
      "+----+------+\n",
      "|  25| 20000|\n",
      "|  30|200000|\n",
      "+----+------+\n",
      "\n",
      "+----+----+\n",
      "|col1|col2|\n",
      "+----+----+\n",
      "+----+----+\n",
      "\n",
      "+----+------+\n",
      "|col1|  col2|\n",
      "+----+------+\n",
      "|   5|     2|\n",
      "|  30|200000|\n",
      "+----+------+\n",
      "\n"
     ]
    }
   ],
   "source": [
    "# where（条件抽出）\n",
    "df.where(df.col1 >= 10).show()\n",
    "df.where((df.col1 >= 10) & (df.col2 > 2000)).show()\n",
    "\n",
    "# Columnクラスメソッド\n",
    "df.where(df.col1.isNull()).show()\n",
    "df.where(df.col1.isNotNull()).show()\n",
    "df.where(df.col1.isin([5, 30])).show()"
   ]
  }
 ],
 "metadata": {
  "kernelspec": {
   "display_name": "Python 3",
   "language": "python",
   "name": "python3"
  },
  "language_info": {
   "codemirror_mode": {
    "name": "ipython",
    "version": 3
   },
   "file_extension": ".py",
   "mimetype": "text/x-python",
   "name": "python",
   "nbconvert_exporter": "python",
   "pygments_lexer": "ipython3",
   "version": "3.6.8"
  }
 },
 "nbformat": 4,
 "nbformat_minor": 4
}
