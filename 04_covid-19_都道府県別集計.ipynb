{
 "cells": [
  {
   "cell_type": "code",
   "execution_count": 2,
   "metadata": {},
   "outputs": [],
   "source": [
    "from pyspark.sql.types import *"
   ]
  },
  {
   "cell_type": "code",
   "execution_count": 13,
   "metadata": {},
   "outputs": [],
   "source": [
    "tmp = spark.read.csv(r'input\\平成27年国勢調査人口等基本集計（総務省統計局）.csv'\n",
    "                        , header=True\n",
    "                        , encoding='shift-jis')"
   ]
  },
  {
   "cell_type": "code",
   "execution_count": 19,
   "metadata": {},
   "outputs": [
    {
     "name": "stdout",
     "output_type": "stream",
     "text": [
      "+-------+------------+-------------------+---------+\n",
      "|area_cd|area_type_cd|            area_nm|      pop|\n",
      "+-------+------------+-------------------+---------+\n",
      "|      0|           a|               全国|127094745|\n",
      "|      1|           b|               市部|116137232|\n",
      "|      2|           b|               郡部| 10957513|\n",
      "|   1000|           a|             北海道|  5381733|\n",
      "|   1001|           b|               市部|  4395172|\n",
      "|   1002|           b|               郡部|   986561|\n",
      "|   1100|           1|             札幌市|  1952356|\n",
      "|   1101|           0|      札幌市 中央区|   237627|\n",
      "|   1102|           0|        札幌市 北区|   285321|\n",
      "|   1103|           0|        札幌市 東区|   261912|\n",
      "|   1104|           0|      札幌市 白石区|   209584|\n",
      "|   1105|           0|      札幌市 豊平区|   218652|\n",
      "|   1106|           0|        札幌市 南区|   141190|\n",
      "|   1107|           0|        札幌市 西区|   213578|\n",
      "|   1108|           0|      札幌市 厚別区|   127767|\n",
      "|   1109|           0|      札幌市 手稲区|   140999|\n",
      "|   1110|           0|      札幌市 清田区|   115726|\n",
      "|   1202|           2|             函館市|   265979|\n",
      "|   1202|           9|　　(旧 202 函館市)|   254157|\n",
      "|   1202|           9|　　(旧 339 戸井町)|     2677|\n",
      "+-------+------------+-------------------+---------+\n",
      "only showing top 20 rows\n",
      "\n"
     ]
    }
   ],
   "source": [
    "census = tmp.select(tmp[0], tmp[1], tmp[4], tmp[5]) \\\n",
    "            .toDF('area_cd', 'area_type_cd', 'area_nm', 'pop')\n",
    "census.show()"
   ]
  }
 ],
 "metadata": {
  "kernelspec": {
   "display_name": "Python 3",
   "language": "python",
   "name": "python3"
  },
  "language_info": {
   "codemirror_mode": {
    "name": "ipython",
    "version": 3
   },
   "file_extension": ".py",
   "mimetype": "text/x-python",
   "name": "python",
   "nbconvert_exporter": "python",
   "pygments_lexer": "ipython3",
   "version": "3.6.8"
  }
 },
 "nbformat": 4,
 "nbformat_minor": 4
}
